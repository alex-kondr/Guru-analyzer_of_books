{
  "nbformat": 4,
  "nbformat_minor": 0,
  "metadata": {
    "colab": {
      "provenance": []
    },
    "kernelspec": {
      "name": "python3",
      "display_name": "Python 3"
    },
    "language_info": {
      "name": "python"
    }
  },
  "cells": [
    {
      "cell_type": "code",
      "execution_count": null,
      "metadata": {
        "id": "yCHYHqHqzceO"
      },
      "outputs": [],
      "source": [
        "!pip install langchain pandas tiktoken openai pypdf faiss-cpu -q\n"
      ]
    },
    {
      "cell_type": "code",
      "source": [
        "from langchain.text_splitter import RecursiveCharacterTextSplitter\n",
        "from langchain.embeddings import OpenAIEmbeddings, HuggingFaceEmbeddings\n",
        "from langchain.vectorstores import FAISS\n",
        "from langchain.prompts import ChatPromptTemplate, SystemMessagePromptTemplate, HumanMessagePromptTemplate\n",
        "from langchain.chat_models import ChatOpenAI\n",
        "from langchain.chains import RetrievalQA\n",
        "from pypdf import PdfReader"
      ],
      "metadata": {
        "id": "EB8Cz3KC1Mkf"
      },
      "execution_count": null,
      "outputs": []
    },
    {
      "cell_type": "code",
      "source": [
        "text_splitter = RecursiveCharacterTextSplitter(\n",
        "                                      chunk_size=1000,\n",
        "                                      chunk_overlap=0)"
      ],
      "metadata": {
        "id": "881PYIPZ2ttg"
      },
      "execution_count": null,
      "outputs": []
    },
    {
      "cell_type": "code",
      "source": [
        "embeddings = OpenAIEmbeddings(openai_api_key=\"*******************************************\")\n",
        "\n",
        "reader = PdfReader(\"drive/MyDrive/Texts/rii-epub-biobanks-2015.pdf\")\n",
        "db = FAISS.from_texts([\"\"], embeddings)\n",
        "for page in reader.pages:\n",
        "    text = page.extract_text()\n",
        "    chunks = text_splitter.split_text(text)\n",
        "    db.add_texts(chunks)\n",
        "db.save_local(\"drive/MyDrive/FAISS\", index_name=\"gpt_test\")"
      ],
      "metadata": {
        "id": "1-oV9UV21MtN"
      },
      "execution_count": null,
      "outputs": []
    },
    {
      "cell_type": "code",
      "source": [
        "vector_store = FAISS.load_local(\"drive/MyDrive/FAISS\", embeddings, \"gpt_test\")"
      ],
      "metadata": {
        "id": "OwX0ukARBMoW"
      },
      "execution_count": null,
      "outputs": []
    },
    {
      "cell_type": "code",
      "source": [
        "vector_store.similarity_search_with_score(\"роль биобанков\")"
      ],
      "metadata": {
        "colab": {
          "base_uri": "https://localhost:8080/"
        },
        "id": "ckt98KV_Hpoj",
        "outputId": "0658d498-f903-4826-cbab-e2ad7df0e9ea"
      },
      "execution_count": null,
      "outputs": [
        {
          "output_type": "execute_result",
          "data": {
            "text/plain": [
              "[(Document(page_content='Еропкин М.Ю. Биобанки и их роль в системах биобезопасности, здравоохранения, биотехнологии, экологии и «экономике знаний»\\nстратегии, нацеленные не только на финансирование биобанкинга, но и на извлечение прибыли из\\nнего. \\nОдин из руководителей создаваемого на базе коллекции Центра им. Алмазова биосервиса\\nВиталий Пруцкий полагает, что успешность биобанка будет зависеть от оборота образцов: «Мы\\nсчитаем,  что  это  должны  быть  гарантированно  востребованные  коллекции.  И,  как  во  всякой\\nколлекции, здесь должны быть редкие экземпляры, которые понадобятся если не сейчас, то в\\nбудущем, или образцы, сбор которых не требует больших затрат и которые можно себе позволить\\nиметь. У нас нет цели заполнить тысячи квадратных метров рядами дьюаров, а есть цель наладить\\nвысокий оборот данных. Говоря «биобанк» — мы упрощаем. В перспективе это будет именно\\nбиосервис с функциями хранения и обработки. Мы рассчитываем на анализ данных методами', metadata={}),\n",
              "  0.23002791),\n",
              " (Document(page_content='«биобанк» применяется, как правило, к коллекциям образцов, взятых у человека. \\nРоль биобанков в системе биологической безопасности\\nВажнейшая роль биобанков состоит в повышении биобезопасности страны [2]. Концепция\\nбиологической  безопасности  предусматривает  предотвращение  потенциальных  и  реальных\\nбиологических  угроз  на  разных  уровнях  биориска.  Банк  сывороток  крови  имеет  важнейшее\\nзначение  в  системе  оценки  состояния  популяционного  иммунитета  для  определения  риска  и\\nстепени  эпидемиологической  опасности  распространения  на  отдельных  территориях  страны\\nсоциально  значимых  и  опасных  инфекционных  заболеваний  с  помощью  информативной\\nпаспортизированной коллекции сывороток крови. \\n© ФГБУ «НИИ гриппа» Минздрава России, — 2015.1 www.influenza.spb.ru', metadata={}),\n",
              "  0.24553667),\n",
              " (Document(page_content='Еропкин М.Ю. Биобанки и их роль в системах биобезопасности, здравоохранения, биотехнологии, экологии и «экономике знаний»\\nрасследованы  два  случая  изнасилования.  По  словам  главы  банка  Марка  Рубертона  ценность\\nобразцов  не  снижается  и  они  продолжают  «жить  собственной  жизнью»  и  после  увольнения\\nвоеннослужащих. \\nОдним из направлений исследования с помощью образцов биобанка Минобороны США\\nявляется поиск биомаркеров пост-травматического стрессорного расстройства. Большую роль в\\nэтом сыграли образцы, полученные у военнослужащих, прошедших через Афганистан и Ирак.\\nПоказано, что такими маркерами служит паттерн метилирования ДНК и выключение некоторых\\nгенов.\\nВ  России  банк  сывороток  (около  30.000  образцов)  имеется  на  базе  ФГБУ «ФНИЦ\\nэпидемиологии и микробиологии» им. Н.Ф. Гамалеи. По мнению участников проекта, создание и\\nуспешное функционирование национального банка сывороток крови позволит решать следующие\\nосновные задачи:', metadata={}),\n",
              "  0.25162932),\n",
              " (Document(page_content='Еропкин М.Ю. Биобанки и их роль в системах биобезопасности, здравоохранения, биотехнологии, экологии и «экономике знаний»\\nБИОБАНКИ И ИХ РОЛЬ В СИСТЕМАХ БИОБЕЗОПАСНОСТИ, ЗДРАВООХРАНЕНИЯ,\\nБИОТЕХНОЛОГИИ, ЭКОЛОГИИ И «ЭКОНОМИКЕ ЗНАНИЙ»\\nЕропкин М.Ю. \\nФГБУ «НИИ гриппа» Минздрава России, Санкт–Петербург, Россия\\nОпределение понятия «биобанк »\\nПонятие биобанка или биорепозитария/биодепозитария трактуется различными авторами\\nнесколько  по–разному,  но  в  целом,  все  сходятся  в  одном:  это  коллекция  тех  или  иных\\nбиоматериалов, длительно хранящихся и сохраняющих на протяжении всего периода хранения\\nсвои биологические свойства. При этом такая система обладает собственной инфраструктурой,\\nиспользует  современные  биотехнологии  и  информационные  системы.  В  качестве  образцов  в\\nбиобанках чаще всего представлены биологические жидкости (сыворотка крови, слюна, моча),\\nбиопсийные  материалы  -  образцы  клеток  и  тканей  (как  нормальные,  так  и  патологически', metadata={}),\n",
              "  0.25916892)]"
            ]
          },
          "metadata": {},
          "execution_count": 56
        }
      ]
    },
    {
      "cell_type": "code",
      "source": [
        "llm = ChatOpenAI(model_name=\"gpt-3.5-turbo\", temperature=0,\n",
        "                 max_tokens=50, openai_api_key=\"*******************************************\")\n",
        "chain = RetrievalQA.from_chain_type(\n",
        "    llm=llm,\n",
        "    chain_type=\"stuff\",\n",
        "    retriever=vector_store.as_retriever()\n",
        ")"
      ],
      "metadata": {
        "id": "ux1VF1s91M3R"
      },
      "execution_count": null,
      "outputs": []
    },
    {
      "cell_type": "code",
      "source": [
        "query = \"какая роль биобанков\"\n",
        "chain(query)"
      ],
      "metadata": {
        "colab": {
          "base_uri": "https://localhost:8080/"
        },
        "id": "y555p0HX1M6p",
        "outputId": "ee9f93bf-1c5c-45ea-f080-42e559b1c238"
      },
      "execution_count": null,
      "outputs": [
        {
          "output_type": "execute_result",
          "data": {
            "text/plain": [
              "{'query': 'какая роль биобанков',\n",
              " 'result': 'Роль биобанков заключается в хранении и сохранении биологических образцов, таких как сыворотка крови, клетки и ткани, с'}"
            ]
          },
          "metadata": {},
          "execution_count": 59
        }
      ]
    },
    {
      "cell_type": "code",
      "source": [
        "query = \"биобанки и безопасность\"\n",
        "chain(query)"
      ],
      "metadata": {
        "colab": {
          "base_uri": "https://localhost:8080/"
        },
        "id": "sB42ayzK1M-F",
        "outputId": "e0c9c0ce-8949-4eee-d04a-b33846b10f56"
      },
      "execution_count": null,
      "outputs": [
        {
          "output_type": "execute_result",
          "data": {
            "text/plain": [
              "{'query': 'биобанки и безопасность',\n",
              " 'result': 'Биобанки играют важную роль в системе биологической безопасности. Они помогают предотвращать потенциальные и реальные б'}"
            ]
          },
          "metadata": {},
          "execution_count": 61
        }
      ]
    },
    {
      "cell_type": "code",
      "source": [
        "query = \"день недели сегодня\"\n",
        "chain(query)"
      ],
      "metadata": {
        "id": "Nhblbl9QG9SR",
        "colab": {
          "base_uri": "https://localhost:8080/"
        },
        "outputId": "c8c071d6-75b6-4f49-b67e-74fb6d81985e"
      },
      "execution_count": null,
      "outputs": [
        {
          "output_type": "execute_result",
          "data": {
            "text/plain": [
              "{'query': 'день недели сегодня',\n",
              " 'result': 'Из предоставленного контекста невозможно определить текущий день недели.'}"
            ]
          },
          "metadata": {},
          "execution_count": 62
        }
      ]
    }
  ]
}