{
  "nbformat": 4,
  "nbformat_minor": 0,
  "metadata": {
    "colab": {
      "provenance": []
    },
    "kernelspec": {
      "name": "python3",
      "display_name": "Python 3"
    },
    "language_info": {
      "name": "python"
    }
  },
  "cells": [
    {
      "cell_type": "code",
      "execution_count": 42,
      "metadata": {
        "id": "NrgfLZpMIgyw"
      },
      "outputs": [],
      "source": [
        "! pip install langchain tiktoken openai pypdf faiss-cpu huggingface_hub python-docx selenium unstructured -q"
      ]
    },
    {
      "cell_type": "code",
      "source": [
        "from langchain.document_loaders import PyPDFLoader\n",
        "from langchain.document_loaders import TextLoader\n",
        "from langchain.text_splitter import RecursiveCharacterTextSplitter\n",
        "\n",
        "from langchain.embeddings.openai import OpenAIEmbeddings\n",
        "from langchain.vectorstores import FAISS\n",
        "from docx import Document\n",
        "from langchain.document_loaders import SeleniumURLLoader\n",
        "\n",
        "from langchain.callbacks import get_openai_callback\n",
        "from langchain import HuggingFaceHub"
      ],
      "metadata": {
        "id": "EyafiqsoI7Mm"
      },
      "execution_count": 43,
      "outputs": []
    },
    {
      "cell_type": "code",
      "source": [
        "# Load the PDF file. English or French only\n",
        "\n",
        "text_splitter = RecursiveCharacterTextSplitter(\n",
        "    chunk_size=1024,\n",
        "    chunk_overlap=64,\n",
        "    separators=['\\n\\n', '\\n', '(?=>\\. )', ' ', ''])\n",
        "\n",
        "pdf_doc_path='/content/drive/MyDrive/Data S/data/1594383154-world-war-ii.pdf'\n",
        "if pdf_doc_path:\n",
        "    loader = PyPDFLoader(pdf_doc_path)\n",
        "    pages = loader.load_and_split()\n",
        "\n",
        "txt_path=''\n",
        "if txt_path:\n",
        "    loader=TextLoader(txt_path)\n",
        "    pages=loader.load()\n",
        "\n",
        "docx_path=''\n",
        "if docx_path:\n",
        "  word_doc=Document(docx_path)\n",
        "  passages=[p.text for p in word_doc.paragraphs]\n",
        "  content = \"\\n\".join(passages)\n",
        "  file_txt_path=\"./file.txt\"\n",
        "  with open(file_txt_path, \"w\") as f:\n",
        "    f.write(content)\n",
        "  loader=TextLoader(file_txt_path)\n",
        "  pages=loader.load()\n",
        "\n",
        "url=['']\n",
        "if url[0]:\n",
        "  loader = SeleniumURLLoader(url)\n",
        "  pages=loader.load()\n",
        "\n",
        "texts = text_splitter.split_documents(pages)"
      ],
      "metadata": {
        "id": "rURrisgIJTil"
      },
      "execution_count": 44,
      "outputs": []
    },
    {
      "cell_type": "code",
      "source": [
        "import tiktoken\n",
        "\n",
        "def num_tokens(string: str, encoding_name: str) -> int:\n",
        "    \"\"\"Returns the number of tokens in a text string.\"\"\"\n",
        "    encoding = tiktoken.get_encoding(encoding_name)\n",
        "    num_tokens = len(encoding.encode(string))\n",
        "    return num_tokens\n",
        "\n",
        "full_text=''\n",
        "for i in range(len(texts)-1):\n",
        "  #print(docs[i][0].page_content)\n",
        "  full_text+=texts[i].page_content\n",
        "\n",
        "tokens=num_tokens(full_text, 'cl100k_base')\n",
        "PRICE=0.0001 # 0.0001 USD per 1000 tokens\n",
        "Token_summary={}\n",
        "Token_summary['1K/tokens']=tokens/1000\n",
        "Token_summary['$price 1K/tokens']=PRICE\n",
        "Token_summary['Total_cost(USD)']=tokens/1000*PRICE\n",
        "Token_summary"
      ],
      "metadata": {
        "id": "JmCewjB9KW6s",
        "colab": {
          "base_uri": "https://localhost:8080/"
        },
        "outputId": "18bd051d-0ae7-42f7-bcb0-3dc9bfc1ecd9"
      },
      "execution_count": 45,
      "outputs": [
        {
          "output_type": "execute_result",
          "data": {
            "text/plain": [
              "{'1K/tokens': 2.648,\n",
              " '$price 1K/tokens': 0.0001,\n",
              " 'Total_cost(USD)': 0.00026480000000000004}"
            ]
          },
          "metadata": {},
          "execution_count": 45
        }
      ]
    },
    {
      "cell_type": "code",
      "source": [
        "embeddings = OpenAIEmbeddings(openai_api_key=\"\")\n",
        "vector_db = FAISS.from_documents(texts, embeddings)\n",
        "vector_db.save_local(\"/content/drive/MyDrive/Data S/data\", index_name=(\"WW2\"))"
      ],
      "metadata": {
        "id": "w5iHiYUmD9sM"
      },
      "execution_count": null,
      "outputs": []
    },
    {
      "cell_type": "code",
      "source": [
        "llm=HuggingFaceHub(huggingfacehub_api_token=\"\",\n",
        "                   repo_id=\"tiiuae/falcon-7b-instruct\", #\n",
        "                    model_kwargs={\"temperature\":0.5 ,\n",
        "                                 \"max_length\":512,\n",
        "                                 \"max_new_tokens\":200\n",
        "                                 })"
      ],
      "metadata": {
        "id": "nxUfO-Cav5ny"
      },
      "execution_count": 52,
      "outputs": []
    },
    {
      "cell_type": "code",
      "source": [
        "from langchain.chains import RetrievalQA\n",
        "from langchain.schema import retriever\n",
        "from langchain.memory import ConversationBufferMemory\n",
        "from langchain.chains.question_answering import load_qa_chain\n",
        "\n",
        "\n",
        "vector_db=FAISS.load_local(folder_path=\"/content/drive/MyDrive/Data S/data\",\n",
        "                          index_name='Python_data_sheet',\n",
        "                          embeddings=embeddings)\n",
        "memory = ConversationBufferMemory(memory_key=\"chat_history\")\n",
        "qa_chain=load_qa_chain(llm=llm, chain_type=\"stuff\")\n",
        "qa = RetrievalQA(combine_documents_chain=qa_chain,\n",
        "                                retriever=vector_db.as_retriever(),\n",
        "                                memory=memory,\n",
        "                              )\n"
      ],
      "metadata": {
        "id": "gY_8H7bQC8SE"
      },
      "execution_count": 49,
      "outputs": []
    },
    {
      "cell_type": "code",
      "source": [
        "queary='How started WW2?'\n",
        "results=qa({\"query\": queary})"
      ],
      "metadata": {
        "id": "rJVhX0M_COXE"
      },
      "execution_count": 53,
      "outputs": []
    },
    {
      "cell_type": "code",
      "source": [
        "results"
      ],
      "metadata": {
        "colab": {
          "base_uri": "https://localhost:8080/"
        },
        "id": "D9udVu6eCuVE",
        "outputId": "3d859212-f876-4b51-d79b-8b16b623b8d4"
      },
      "execution_count": 54,
      "outputs": [
        {
          "output_type": "execute_result",
          "data": {
            "text/plain": [
              "{'query': 'How started WW2?',\n",
              " 'chat_history': 'Human: When WWII was started??\\nAI: \\nWorld War II started in 1939.\\nThe Axis Powers:\\nGermany, Italy, and Japan\\nThe Allies:\\nUnited States, United Kingdom, and France\\nThe War Ends\\nOn 25 May 1945, Germany surrendered unconditionally to the Allied forces.\\nThe war was over.\\nThe End of World War II\\nIn the aftermath of World War II, Germany was divided into four parts, and the country was\\nreunified on 23 October 1990.\\nThe Allies also had to reconstruct Germany and pay the country a large amount of reparations.\\nIn 1948, West Germany was reunited, and the country was given a West German constitution.\\nIn 1945, Japan was also divided into four parts, and the country was also reconstructed.\\nThe country was given a constitution in 1947, and the emperor was abolished.\\nThe Japanese Emperor, Hirohito, was abolished in 1947, and the',\n",
              " 'result': \"\\nWW2 began with Germany's invasion of Poland in 1939.\\nThe war saw many significant events, including the Holocaust, D-Day landings, and the\\nnuclear bombings of Hiroshima and Nagasaki.\\nThe war ended with Germany's surrender in 1945.\\nWW2 began with Germany's invasion of Poland in 1939.\\nThe war saw many significant events, including the Holocaust, D-Day landings, and the\\nnuclear bombings of Hiroshima and Nagasaki.\\nThe war ended with Germany's surrender in 1945.\"}"
            ]
          },
          "metadata": {},
          "execution_count": 54
        }
      ]
    },
    {
      "cell_type": "code",
      "source": [],
      "metadata": {
        "id": "OJ5dCBCuCvYH"
      },
      "execution_count": null,
      "outputs": []
    }
  ]
}