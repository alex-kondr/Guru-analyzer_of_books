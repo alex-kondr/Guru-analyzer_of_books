{
  "nbformat": 4,
  "nbformat_minor": 0,
  "metadata": {
    "colab": {
      "provenance": []
    },
    "kernelspec": {
      "name": "python3",
      "display_name": "Python 3"
    },
    "language_info": {
      "name": "python"
    }
  },
  "cells": [
    {
      "cell_type": "code",
      "execution_count": 2,
      "metadata": {
        "id": "NrgfLZpMIgyw",
        "colab": {
          "base_uri": "https://localhost:8080/"
        },
        "outputId": "c1bfe18f-bd86-4c77-f6f6-fb18a24bc3e6"
      },
      "outputs": [
        {
          "output_type": "stream",
          "name": "stdout",
          "text": [
            "\u001b[2K     \u001b[90m━━━━━━━━━━━━━━━━━━━━━━━━━━━━━━━━━━━━━━━━\u001b[0m \u001b[32m1.7/1.7 MB\u001b[0m \u001b[31m12.3 MB/s\u001b[0m eta \u001b[36m0:00:00\u001b[0m\n",
            "\u001b[2K     \u001b[90m━━━━━━━━━━━━━━━━━━━━━━━━━━━━━━━━━━━━━━━━\u001b[0m \u001b[32m2.0/2.0 MB\u001b[0m \u001b[31m26.0 MB/s\u001b[0m eta \u001b[36m0:00:00\u001b[0m\n",
            "\u001b[2K     \u001b[90m━━━━━━━━━━━━━━━━━━━━━━━━━━━━━━━━━━━━━━━━\u001b[0m \u001b[32m76.5/76.5 kB\u001b[0m \u001b[31m8.1 MB/s\u001b[0m eta \u001b[36m0:00:00\u001b[0m\n",
            "\u001b[2K     \u001b[90m━━━━━━━━━━━━━━━━━━━━━━━━━━━━━━━━━━━━━━\u001b[0m \u001b[32m276.3/276.3 kB\u001b[0m \u001b[31m17.5 MB/s\u001b[0m eta \u001b[36m0:00:00\u001b[0m\n",
            "\u001b[2K     \u001b[90m━━━━━━━━━━━━━━━━━━━━━━━━━━━━━━━━━━━━━━━━\u001b[0m \u001b[32m17.6/17.6 MB\u001b[0m \u001b[31m68.0 MB/s\u001b[0m eta \u001b[36m0:00:00\u001b[0m\n",
            "\u001b[2K     \u001b[90m━━━━━━━━━━━━━━━━━━━━━━━━━━━━━━━━━━━━━━\u001b[0m \u001b[32m294.9/294.9 kB\u001b[0m \u001b[31m26.3 MB/s\u001b[0m eta \u001b[36m0:00:00\u001b[0m\n",
            "\u001b[2K     \u001b[90m━━━━━━━━━━━━━━━━━━━━━━━━━━━━━━━━━━━━━━━━\u001b[0m \u001b[32m5.6/5.6 MB\u001b[0m \u001b[31m75.4 MB/s\u001b[0m eta \u001b[36m0:00:00\u001b[0m\n",
            "\u001b[?25h  Preparing metadata (setup.py) ... \u001b[?25l\u001b[?25hdone\n",
            "\u001b[2K     \u001b[90m━━━━━━━━━━━━━━━━━━━━━━━━━━━━━━━━━━━━━━━━\u001b[0m \u001b[32m9.4/9.4 MB\u001b[0m \u001b[31m71.4 MB/s\u001b[0m eta \u001b[36m0:00:00\u001b[0m\n",
            "\u001b[2K     \u001b[90m━━━━━━━━━━━━━━━━━━━━━━━━━━━━━━━━━━━━━━━━\u001b[0m \u001b[32m1.5/1.5 MB\u001b[0m \u001b[31m65.7 MB/s\u001b[0m eta \u001b[36m0:00:00\u001b[0m\n",
            "\u001b[2K     \u001b[90m━━━━━━━━━━━━━━━━━━━━━━━━━━━━━━━━━━━━━━\u001b[0m \u001b[32m400.2/400.2 kB\u001b[0m \u001b[31m32.3 MB/s\u001b[0m eta \u001b[36m0:00:00\u001b[0m\n",
            "\u001b[2K     \u001b[90m━━━━━━━━━━━━━━━━━━━━━━━━━━━━━━━━━━━━━━\u001b[0m \u001b[32m358.9/358.9 kB\u001b[0m \u001b[31m30.6 MB/s\u001b[0m eta \u001b[36m0:00:00\u001b[0m\n",
            "\u001b[2K     \u001b[90m━━━━━━━━━━━━━━━━━━━━━━━━━━━━━━━━━━━━━━\u001b[0m \u001b[32m275.1/275.1 kB\u001b[0m \u001b[31m24.9 MB/s\u001b[0m eta \u001b[36m0:00:00\u001b[0m\n",
            "\u001b[2K     \u001b[90m━━━━━━━━━━━━━━━━━━━━━━━━━━━━━━━━━━━━━━━━\u001b[0m \u001b[32m49.4/49.4 kB\u001b[0m \u001b[31m5.2 MB/s\u001b[0m eta \u001b[36m0:00:00\u001b[0m\n",
            "\u001b[2K     \u001b[90m━━━━━━━━━━━━━━━━━━━━━━━━━━━━━━━━━━━━━━━━\u001b[0m \u001b[32m58.3/58.3 kB\u001b[0m \u001b[31m6.8 MB/s\u001b[0m eta \u001b[36m0:00:00\u001b[0m\n",
            "\u001b[?25h  Building wheel for python-docx (setup.py) ... \u001b[?25l\u001b[?25hdone\n"
          ]
        }
      ],
      "source": [
        "! pip install langchain tiktoken openai pypdf faiss-cpu huggingface_hub python-docx selenium unstructured -q"
      ]
    },
    {
      "cell_type": "code",
      "source": [
        "from langchain.document_loaders import PyPDFLoader\n",
        "from langchain.document_loaders import TextLoader\n",
        "from langchain.text_splitter import RecursiveCharacterTextSplitter\n",
        "\n",
        "from langchain.embeddings.openai import OpenAIEmbeddings\n",
        "from langchain.vectorstores import FAISS\n",
        "from docx import Document\n",
        "from langchain.document_loaders import SeleniumURLLoader"
      ],
      "metadata": {
        "id": "EyafiqsoI7Mm"
      },
      "execution_count": 3,
      "outputs": []
    },
    {
      "cell_type": "code",
      "source": [
        "# Load the PDF file. English or French only\n",
        "\n",
        "text_splitter = RecursiveCharacterTextSplitter(\n",
        "    chunk_size=1024,\n",
        "    chunk_overlap=64,\n",
        "    separators=['\\n\\n', '\\n', '(?=>\\. )', ' ', ''])\n",
        "\n",
        "pdf_doc_path='/content/drive/MyDrive/Data S/data/1594383154-world-war-ii.pdf'\n",
        "if pdf_doc_path:\n",
        "    loader = PyPDFLoader(pdf_doc_path)\n",
        "    pages = loader.load_and_split()\n",
        "\n",
        "txt_path=''\n",
        "if txt_path:\n",
        "    loader=TextLoader(txt_path)\n",
        "    pages=loader.load()\n",
        "\n",
        "docx_path=''\n",
        "if docx_path:\n",
        "  word_doc=Document(docx_path)\n",
        "  passages=[p.text for p in word_doc.paragraphs]\n",
        "  content = \"\\n\".join(passages)\n",
        "  file_txt_path=\"./file.txt\"\n",
        "  with open(file_txt_path, \"w\") as f:\n",
        "    f.write(content)\n",
        "  loader=TextLoader(file_txt_path)\n",
        "  pages=loader.load()\n",
        "\n",
        "url=['']\n",
        "if url[0]:\n",
        "  loader = SeleniumURLLoader(url)\n",
        "  pages=loader.load()\n",
        "\n",
        "texts = text_splitter.split_documents(pages)\n",
        "embeddings = OpenAIEmbeddings(openai_api_key=\"\")"
      ],
      "metadata": {
        "id": "rURrisgIJTil"
      },
      "execution_count": 47,
      "outputs": []
    },
    {
      "cell_type": "code",
      "source": [],
      "metadata": {
        "id": "wi-nK8hXiN68"
      },
      "execution_count": null,
      "outputs": []
    },
    {
      "cell_type": "code",
      "source": [
        "vector_db = FAISS.from_documents(texts, embeddings)\n",
        "vector_db.save_local(\"./FAISS_db\", index_name=(\"WW2\"))"
      ],
      "metadata": {
        "id": "WMF2PY-tEf3u"
      },
      "execution_count": 48,
      "outputs": []
    },
    {
      "cell_type": "code",
      "source": [
        "from langchain import HuggingFaceHub\n",
        "\n",
        "llm=HuggingFaceHub(huggingfacehub_api_token=\"\",\n",
        "                   repo_id=\"tiiuae/falcon-7b\", #\n",
        "                    model_kwargs={\"temperature\":0.5 ,\n",
        "                                 \"max_length\":512,\n",
        "                                 \"max_new_tokens\":200\n",
        "                                 })"
      ],
      "metadata": {
        "id": "BaWKCSo84DNI",
        "colab": {
          "base_uri": "https://localhost:8080/"
        },
        "outputId": "1c6062ea-b217-420f-c28b-5b1337c2f9d5"
      },
      "execution_count": 49,
      "outputs": [
        {
          "output_type": "stream",
          "name": "stderr",
          "text": [
            "/usr/local/lib/python3.10/dist-packages/huggingface_hub/utils/_deprecation.py:127: FutureWarning: '__init__' (from 'huggingface_hub.inference_api') is deprecated and will be removed from version '0.19.0'. `InferenceApi` client is deprecated in favor of the more feature-complete `InferenceClient`. Check out this guide to learn how to convert your script to use it: https://huggingface.co/docs/huggingface_hub/guides/inference#legacy-inferenceapi-client.\n",
            "  warnings.warn(warning_message, FutureWarning)\n"
          ]
        }
      ]
    },
    {
      "cell_type": "code",
      "source": [],
      "metadata": {
        "id": "nxUfO-Cav5ny"
      },
      "execution_count": null,
      "outputs": []
    },
    {
      "cell_type": "code",
      "source": [
        "from langchain.chains import RetrievalQA\n",
        "from langchain.schema import retriever\n",
        "from langchain.memory import ConversationBufferMemory\n",
        "from langchain.chains.question_answering import load_qa_chain\n",
        "\n",
        "\n",
        "vector_db=FAISS.load_local(folder_path=\"./FAISS_db\",\n",
        "                           index_name='WW2',\n",
        "                           embeddings=embeddings)\n",
        "\n",
        "memory = ConversationBufferMemory(memory_key=\"chat_history\")\n",
        "qa_chain=load_qa_chain(llm=llm, chain_type=\"stuff\")\n",
        "qa = RetrievalQA(combine_documents_chain=qa_chain,\n",
        "                                 retriever=vector_db.as_retriever(),\n",
        "                                 memory=memory,\n",
        "                                )"
      ],
      "metadata": {
        "id": "ASPbYcmLFCdC"
      },
      "execution_count": 68,
      "outputs": []
    },
    {
      "cell_type": "code",
      "source": [
        "#Ask a question?\n",
        "queary='Wha were the reasons of WWII?'\n",
        "results=qa({\"query\": queary})"
      ],
      "metadata": {
        "id": "IZ8SS7DWFYLQ"
      },
      "execution_count": 75,
      "outputs": []
    },
    {
      "cell_type": "code",
      "source": [
        "results['chat_history']"
      ],
      "metadata": {
        "colab": {
          "base_uri": "https://localhost:8080/",
          "height": 123
        },
        "id": "Hi3MTtrG_Pcb",
        "outputId": "0234eb46-f5e5-458e-f412-e95cc4cc1b1d"
      },
      "execution_count": 76,
      "outputs": [
        {
          "output_type": "execute_result",
          "data": {
            "text/plain": [
              "'Human: When Germany invaded in USSR?\\nAI: \\n\\nThe Germans invaded the USSR on June 22, 1941, and the Soviets declared war on them on\\nSeptember 1, 1941.\\n\\nThe Battle of Stalingrad\\n\\nThe Battle of Stalingrad was a turning point in the war.\\nThe Germans were defeated and forced to retreat.\\nThe battle was fought between September 1942 and February 1943.\\nThe Axis Powers lost 1 million men and the Soviets lost 900,000 men.\\nThe Battle of Stalingrad was a turning point in the war.\\nThe Battle of Stalingrad was a turning point in the war.\\nThe Battle of Stalingrad was a turning point in the war.\\nThe Battle of Stalingrad was a turning point in the war.\\nThe Battle of Stalingrad was a turning point in the war.\\n\\nFurther, the Soviets lost 900,000 men and the Axis Powers lost 1 million\\nHuman: When USA did take a part in WWII?\\nAI: \\n\\nThe United States entered World War II after the Japanese attack on Pearl Harbor on 7 December 1941.\\nThe United States had been neutral until then.\\nThe US entered the war on the side of the Allies.\\nThe US declared war on Germany on 8 December 1941 and on Japan on 11 December 1941.\\nThe US declared war on Italy in 1943.\\nThe US declared war on Bulgaria in 1944.\\nThe US declared war on Hungary in 1944.\\nThe US declared war on Romania in 1944.\\nThe US declared war on Finland in 1945.\\nThe US declared war on the Soviet Union in 1945.\\nThe US declared war on Croatia in 1945.\\nThe US declared war on Germany in 1945.\\n\\nWorld War II\\ndrishtiias.com\\n/printpdf/world-war-ii\\n\\n5/7\\n\\n'"
            ],
            "application/vnd.google.colaboratory.intrinsic+json": {
              "type": "string"
            }
          },
          "metadata": {},
          "execution_count": 76
        }
      ]
    },
    {
      "cell_type": "code",
      "source": [
        "results['result']"
      ],
      "metadata": {
        "id": "i8dQHKVBLm9y",
        "colab": {
          "base_uri": "https://localhost:8080/",
          "height": 122
        },
        "outputId": "045dadc4-57b2-4208-e2a6-3ac345318ec2"
      },
      "execution_count": 77,
      "outputs": [
        {
          "output_type": "execute_result",
          "data": {
            "text/plain": [
              "'\\nThe major causes of World War II were numerous. They include the impact of the Treaty of\\nVersailles following WWI, the worldwide economic depression, failure of appeasement, the\\nrise of militarism in Germany and Japan, and the failure of the League of Nations.\\n\\nThe Treaty of Versailles\\nFollowing World War I, the victorious Allied Powers met to decide Germany’s future. Germany\\nwas forced to sign the Treaty of Versailles.\\nUnder this treaty, Germany had to accept guilt for the war and to pay reparations. Germany lost\\nterritory and was prohibited from having a large military.\\nThe humiliation faced by Germany under this treaty paved the way for the spread of Ultra-\\nNationalism in Germany.\\n\\nFailure of the League of Nations\\nThe League of Nations was an international organization set up in 1919 to keep world peace.\\nIt was intended that all countries would be members and that if there were disputes between\\ncount'"
            ],
            "application/vnd.google.colaboratory.intrinsic+json": {
              "type": "string"
            }
          },
          "metadata": {},
          "execution_count": 77
        }
      ]
    },
    {
      "cell_type": "code",
      "source": [
        "results.keys()"
      ],
      "metadata": {
        "id": "u2mcUkFdH1Sa",
        "colab": {
          "base_uri": "https://localhost:8080/"
        },
        "outputId": "9ab0a710-0aa2-4227-d052-3de43cde1193"
      },
      "execution_count": 38,
      "outputs": [
        {
          "output_type": "execute_result",
          "data": {
            "text/plain": [
              "dict_keys(['query', 'chat_history', 'result'])"
            ]
          },
          "metadata": {},
          "execution_count": 38
        }
      ]
    },
    {
      "cell_type": "code",
      "source": [],
      "metadata": {
        "id": "MS7U1vcQ9QOI"
      },
      "execution_count": null,
      "outputs": []
    }
  ]
}